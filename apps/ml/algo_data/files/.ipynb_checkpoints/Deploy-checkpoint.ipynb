{
 "cells": [
  {
   "cell_type": "code",
   "execution_count": 1,
   "metadata": {},
   "outputs": [],
   "source": [
    "# Package Imports\n",
    "import pickle\n",
    "import pandas as pd\n",
    "import numpy as np\n",
    "from sklearn import preprocessing"
   ]
  },
  {
   "cell_type": "code",
   "execution_count": 2,
   "metadata": {},
   "outputs": [],
   "source": [
    "#Loading the Model\n",
    "model = pickle.load(open('light_model.sav', 'rb'))"
   ]
  },
  {
   "cell_type": "code",
   "execution_count": 3,
   "metadata": {},
   "outputs": [],
   "source": [
    "# Read in data\n",
    "app_train = pd.read_csv('application_train.csv').sort_values('SK_ID_CURR').reset_index(drop = True).loc[:1000000, :]"
   ]
  },
  {
   "cell_type": "code",
   "execution_count": 4,
   "metadata": {},
   "outputs": [
    {
     "data": {
      "text/plain": [
       "(307511, 121)"
      ]
     },
     "execution_count": 4,
     "metadata": {},
     "output_type": "execute_result"
    }
   ],
   "source": [
    "# Set an index\n",
    "app_train = app_train.set_index('SK_ID_CURR')\n",
    "app_train.shape"
   ]
  },
  {
   "cell_type": "code",
   "execution_count": 5,
   "metadata": {},
   "outputs": [],
   "source": [
    "# Delete COLUMNS with very many NaNs, more than 40% of the observations in the column missing\n",
    "app_data = app_train.dropna(thresh = 45000, axis = 1)"
   ]
  },
  {
   "cell_type": "code",
   "execution_count": 6,
   "metadata": {},
   "outputs": [],
   "source": [
    "# Delete ROWS with very many NaNs, more than 40% of the observations in the row missing\n",
    "app_data = app_data.dropna(thresh = 45, axis = 0)"
   ]
  },
  {
   "cell_type": "code",
   "execution_count": 7,
   "metadata": {},
   "outputs": [],
   "source": [
    "# Delete ROWS with very many NaNs, more than 40% of the observations in the row missing\n",
    "app_data = app_data.dropna(thresh = 45, axis = 0)"
   ]
  },
  {
   "cell_type": "code",
   "execution_count": 8,
   "metadata": {},
   "outputs": [
    {
     "data": {
      "text/plain": [
       "(307511, 105)"
      ]
     },
     "execution_count": 8,
     "metadata": {},
     "output_type": "execute_result"
    }
   ],
   "source": [
    "# Subset numerical data\n",
    "numerics = ['int16','int32','int64','float16','float32','float64']\n",
    "numerical_vars = list(app_data.select_dtypes(include=numerics).columns)\n",
    "numerical_data = app_data[numerical_vars]\n",
    "numerical_data.shape"
   ]
  },
  {
   "cell_type": "code",
   "execution_count": 9,
   "metadata": {},
   "outputs": [],
   "source": [
    "# Fill in missing values\n",
    "numerical_data = numerical_data.fillna(numerical_data.mean())"
   ]
  },
  {
   "cell_type": "code",
   "execution_count": 10,
   "metadata": {},
   "outputs": [
    {
     "data": {
      "text/plain": [
       "(307511, 16)"
      ]
     },
     "execution_count": 10,
     "metadata": {},
     "output_type": "execute_result"
    }
   ],
   "source": [
    "# Subset categorical data\n",
    "cates = ['object']\n",
    "cate_vars = list(app_data.select_dtypes(include=cates).columns)\n",
    "categorical_data = app_data[cate_vars]\n",
    "categorical_data.shape"
   ]
  },
  {
   "cell_type": "code",
   "execution_count": 11,
   "metadata": {},
   "outputs": [],
   "source": [
    "# Fill in missing values\n",
    "categorical_data = categorical_data.fillna(method = 'ffill')"
   ]
  },
  {
   "cell_type": "code",
   "execution_count": 12,
   "metadata": {},
   "outputs": [],
   "source": [
    "# Instantiate label encoder\n",
    "le = preprocessing.LabelEncoder()\n",
    "categorical_data = categorical_data.apply(lambda col: le.fit_transform(col).astype(str))"
   ]
  },
  {
   "cell_type": "code",
   "execution_count": 13,
   "metadata": {},
   "outputs": [
    {
     "data": {
      "text/plain": [
       "(307511, 121)"
      ]
     },
     "execution_count": 13,
     "metadata": {},
     "output_type": "execute_result"
    }
   ],
   "source": [
    "# Concat the data\n",
    "clean_data = pd.concat([categorical_data, numerical_data], axis = 1)\n",
    "clean_data.shape"
   ]
  },
  {
   "cell_type": "code",
   "execution_count": 14,
   "metadata": {
    "scrolled": true
   },
   "outputs": [
    {
     "data": {
      "text/plain": [
       "SK_ID_CURR\n",
       "408327    0\n",
       "289473    0\n",
       "257445    0\n",
       "150682    0\n",
       "379560    0\n",
       "295829    0\n",
       "127803    0\n",
       "443604    0\n",
       "205106    0\n",
       "429383    0\n",
       "345417    0\n",
       "426723    0\n",
       "159356    0\n",
       "161058    1\n",
       "413434    0\n",
       "Name: TARGET, dtype: int64"
      ]
     },
     "execution_count": 14,
     "metadata": {},
     "output_type": "execute_result"
    }
   ],
   "source": [
    "# Preview Data\n",
    "clean_data['TARGET'].sample(15)"
   ]
  },
  {
   "cell_type": "code",
   "execution_count": 15,
   "metadata": {},
   "outputs": [],
   "source": [
    "# Prepare test data for individual predictions\n",
    "test_data = clean_data.drop(['TARGET'], axis = 1)"
   ]
  },
  {
   "cell_type": "code",
   "execution_count": 16,
   "metadata": {},
   "outputs": [],
   "source": [
    "# Define a risk assessment function\n",
    "def risk_assessor(a):\n",
    "    client_infor = test_data.loc[[a]].values   #Subset a specific client infor, *a* represent SK_ID_CURR\n",
    "    prob = model.predict_proba(client_infor).tolist()[0]    #predict a client's probability of defaulting\n",
    "    p = prob[1]\n",
    "    if p > 0.67:\n",
    "        print('Client with ID # {} has a high risk of defaulting the loan'.format(a))\n",
    "    elif p > 0.33:\n",
    "        print('Client with ID # {} has a moderate risk of defaulting the loan'.format(a))\n",
    "    else:\n",
    "        print('Client with ID # {} has a low risk of defaulting the loan'.format(a))"
   ]
  },
  {
   "cell_type": "code",
   "execution_count": 17,
   "metadata": {},
   "outputs": [
    {
     "name": "stdout",
     "output_type": "stream",
     "text": [
      "Client with ID # 261013 has a high risk of defaulting the loan\n"
     ]
    }
   ],
   "source": [
    "risk_assessor(261013)"
   ]
  },
  {
   "cell_type": "code",
   "execution_count": null,
   "metadata": {},
   "outputs": [],
   "source": []
  },
  {
   "cell_type": "code",
   "execution_count": null,
   "metadata": {},
   "outputs": [],
   "source": []
  }
 ],
 "metadata": {
  "kernelspec": {
   "display_name": "Python 3",
   "language": "python",
   "name": "python3"
  },
  "language_info": {
   "codemirror_mode": {
    "name": "ipython",
    "version": 3
   },
   "file_extension": ".py",
   "mimetype": "text/x-python",
   "name": "python",
   "nbconvert_exporter": "python",
   "pygments_lexer": "ipython3",
   "version": "3.8.3"
  }
 },
 "nbformat": 4,
 "nbformat_minor": 2
}
