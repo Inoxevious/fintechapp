{
 "cells": [
  {
   "cell_type": "code",
   "execution_count": 13,
   "metadata": {
    "_cell_guid": "b1076dfc-b9ad-4769-8c92-a6c4dae69d19",
    "_uuid": "8f2839f25d086af736a60e9eeb907d3b93b6e0e5"
   },
   "outputs": [],
   "source": [
    "import pandas as pd\n",
    "import numpy as np\n",
    "import random\n",
    "from sklearn.model_selection import train_test_split, GridSearchCV\n",
    "from sklearn.compose import make_column_transformer\n",
    "from sklearn.preprocessing import StandardScaler\n",
    "from sklearn.preprocessing import OneHotEncoder, LabelEncoder\n",
    "from sklearn.metrics import plot_confusion_matrix, accuracy_score\n",
    "from sklearn import tree\n",
    "from sklearn.ensemble import RandomForestClassifier\n",
    "# import xgboost as xgb\n",
    "import json # will be needed for saving preprocessing details\n",
    "import joblib "
   ]
  },
  {
   "cell_type": "code",
   "execution_count": null,
   "metadata": {
    "_cell_guid": "79c7e3d0-c299-4dcb-8224-4455121ee9b0",
    "_uuid": "d629ff2d2480ee46fbb7e2d37f6b5fab8052498a"
   },
   "outputs": [],
   "source": [
    "import os\n",
    "for dirname, _, filenames in os.walk('/kaggle/input'):\n",
    "    for filename in filenames:\n",
    "        print(os.path.join(dirname, filename))"
   ]
  },
  {
   "cell_type": "markdown",
   "metadata": {},
   "source": [
    "# Dataset pre-processing"
   ]
  },
  {
   "cell_type": "code",
   "execution_count": 2,
   "metadata": {},
   "outputs": [],
   "source": [
    "application_data = pd.read_csv('fapplication_train.csv')"
   ]
  },
  {
   "cell_type": "code",
   "execution_count": 3,
   "metadata": {},
   "outputs": [
    {
     "data": {
      "text/plain": [
       "(array([0, 1]), array([282686,  24825]))"
      ]
     },
     "execution_count": 3,
     "metadata": {},
     "output_type": "execute_result"
    }
   ],
   "source": [
    "label_vector = application_data['TARGET']\n",
    "np.unique(label_vector, return_counts=True)"
   ]
  },
  {
   "cell_type": "code",
   "execution_count": 4,
   "metadata": {},
   "outputs": [],
   "source": [
    "dataset_columns = [\n",
    "    'CODE_GENDER', 'FLAG_OWN_CAR', 'FLAG_OWN_REALTY', 'AMT_INCOME_TOTAL', 'AMT_CREDIT', 'AMT_ANNUITY',\n",
    "    'NAME_INCOME_TYPE', 'NAME_EDUCATION_TYPE', 'NAME_FAMILY_STATUS', 'NAME_HOUSING_TYPE', 'DAYS_BIRTH', 'DAYS_EMPLOYED', \n",
    "    'DAYS_ID_PUBLISH', 'FLAG_MOBIL', 'FLAG_EMP_PHONE', 'FLAG_WORK_PHONE', 'FLAG_CONT_MOBILE', 'FLAG_PHONE', 'FLAG_EMAIL',\n",
    "    'OCCUPATION_TYPE', 'CNT_FAM_MEMBERS', 'EXT_SOURCE_1', 'EXT_SOURCE_2', 'EXT_SOURCE_3', 'OBS_30_CNT_SOCIAL_CIRCLE', \n",
    "    'DEF_30_CNT_SOCIAL_CIRCLE', 'OBS_60_CNT_SOCIAL_CIRCLE', 'DEF_60_CNT_SOCIAL_CIRCLE', 'DAYS_LAST_PHONE_CHANGE', \n",
    "    'FLAG_DOCUMENT_2', 'FLAG_DOCUMENT_3', 'FLAG_DOCUMENT_4', 'FLAG_DOCUMENT_5', 'FLAG_DOCUMENT_6', 'FLAG_DOCUMENT_7', \n",
    "    'FLAG_DOCUMENT_8', 'FLAG_DOCUMENT_9', 'FLAG_DOCUMENT_10', 'FLAG_DOCUMENT_11', 'FLAG_DOCUMENT_12', 'FLAG_DOCUMENT_13', \n",
    "    'FLAG_DOCUMENT_14', 'FLAG_DOCUMENT_15', 'FLAG_DOCUMENT_16', 'FLAG_DOCUMENT_17', 'FLAG_DOCUMENT_18', 'FLAG_DOCUMENT_19', \n",
    "    'FLAG_DOCUMENT_20', 'FLAG_DOCUMENT_21', 'AMT_REQ_CREDIT_BUREAU_HOUR', 'AMT_REQ_CREDIT_BUREAU_DAY', 'AMT_REQ_CREDIT_BUREAU_WEEK', \n",
    "    'AMT_REQ_CREDIT_BUREAU_MON', 'AMT_REQ_CREDIT_BUREAU_QRT', 'AMT_REQ_CREDIT_BUREAU_YEAR', 'TARGET'\n",
    "]"
   ]
  },
  {
   "cell_type": "code",
   "execution_count": 5,
   "metadata": {},
   "outputs": [],
   "source": [
    "categorical_features = [\n",
    "    'CODE_GENDER', 'FLAG_OWN_CAR', 'FLAG_OWN_REALTY', 'NAME_INCOME_TYPE', 'NAME_EDUCATION_TYPE', 'NAME_FAMILY_STATUS',\n",
    "    'NAME_HOUSING_TYPE', 'FLAG_MOBIL', 'FLAG_EMP_PHONE', 'FLAG_WORK_PHONE', 'FLAG_CONT_MOBILE', 'FLAG_PHONE', 'FLAG_EMAIL',\n",
    "    'OCCUPATION_TYPE', 'EXT_SOURCE_1', 'FLAG_DOCUMENT_2', 'FLAG_DOCUMENT_3', 'FLAG_DOCUMENT_4', 'FLAG_DOCUMENT_5', \n",
    "    'FLAG_DOCUMENT_6', 'FLAG_DOCUMENT_7', 'FLAG_DOCUMENT_8', 'FLAG_DOCUMENT_9', 'FLAG_DOCUMENT_10', 'FLAG_DOCUMENT_11', \n",
    "    'FLAG_DOCUMENT_12', 'FLAG_DOCUMENT_13', 'FLAG_DOCUMENT_14', 'FLAG_DOCUMENT_15', 'FLAG_DOCUMENT_16', 'FLAG_DOCUMENT_17', \n",
    "    'FLAG_DOCUMENT_18', 'FLAG_DOCUMENT_19', 'FLAG_DOCUMENT_20', 'FLAG_DOCUMENT_21'\n",
    "]\n",
    "numerical_features = [\n",
    "    'AMT_INCOME_TOTAL', 'AMT_CREDIT', 'AMT_ANNUITY', 'DAYS_BIRTH', 'DAYS_EMPLOYED', 'DAYS_ID_PUBLISH', 'CNT_FAM_MEMBERS', \n",
    "    'EXT_SOURCE_1', 'EXT_SOURCE_2', 'EXT_SOURCE_3', 'OBS_30_CNT_SOCIAL_CIRCLE', 'DEF_30_CNT_SOCIAL_CIRCLE', \n",
    "    'OBS_60_CNT_SOCIAL_CIRCLE', 'DEF_60_CNT_SOCIAL_CIRCLE', 'DAYS_LAST_PHONE_CHANGE', 'AMT_REQ_CREDIT_BUREAU_HOUR', \n",
    "    'AMT_REQ_CREDIT_BUREAU_DAY', 'AMT_REQ_CREDIT_BUREAU_WEEK', 'AMT_REQ_CREDIT_BUREAU_MON', 'AMT_REQ_CREDIT_BUREAU_QRT', \n",
    "    'AMT_REQ_CREDIT_BUREAU_YEAR'\n",
    "]"
   ]
  },
  {
   "cell_type": "markdown",
   "metadata": {},
   "source": [
    "### Missing value treatment"
   ]
  },
  {
   "cell_type": "code",
   "execution_count": 6,
   "metadata": {},
   "outputs": [],
   "source": [
    "application_data['AMT_ANNUITY'] = application_data['AMT_ANNUITY'].fillna(0)\n",
    "application_data['OCCUPATION_TYPE'] = application_data['OCCUPATION_TYPE'].fillna('UNKNOWN')\n",
    "application_data['CNT_FAM_MEMBERS'] = application_data['CNT_FAM_MEMBERS'].fillna(0)\n",
    "application_data['EXT_SOURCE_1'] = application_data['EXT_SOURCE_1'].fillna(0)\n",
    "application_data['EXT_SOURCE_2'] = application_data['EXT_SOURCE_2'].fillna(0)\n",
    "application_data['EXT_SOURCE_3'] = application_data['EXT_SOURCE_3'].fillna(0)\n",
    "application_data['OBS_30_CNT_SOCIAL_CIRCLE'] = application_data['OBS_30_CNT_SOCIAL_CIRCLE'].fillna(0)\n",
    "application_data['DEF_30_CNT_SOCIAL_CIRCLE'] = application_data['DEF_30_CNT_SOCIAL_CIRCLE'].fillna(0)\n",
    "application_data['OBS_60_CNT_SOCIAL_CIRCLE'] = application_data['OBS_60_CNT_SOCIAL_CIRCLE'].fillna(0)\n",
    "application_data['DEF_60_CNT_SOCIAL_CIRCLE'] = application_data['DEF_60_CNT_SOCIAL_CIRCLE'].fillna(0)\n",
    "application_data['DAYS_LAST_PHONE_CHANGE'] = application_data['DAYS_LAST_PHONE_CHANGE'].fillna(3650)\n",
    "application_data['AMT_REQ_CREDIT_BUREAU_HOUR'] = application_data['AMT_REQ_CREDIT_BUREAU_HOUR'].fillna(0)\n",
    "application_data['AMT_REQ_CREDIT_BUREAU_DAY'] = application_data['AMT_REQ_CREDIT_BUREAU_DAY'].fillna(0)\n",
    "application_data['AMT_REQ_CREDIT_BUREAU_WEEK'] = application_data['AMT_REQ_CREDIT_BUREAU_WEEK'].fillna(0)\n",
    "application_data['AMT_REQ_CREDIT_BUREAU_MON'] = application_data['AMT_REQ_CREDIT_BUREAU_MON'].fillna(0)\n",
    "application_data['AMT_REQ_CREDIT_BUREAU_QRT'] = application_data['AMT_REQ_CREDIT_BUREAU_QRT'].fillna(0)\n",
    "application_data['AMT_REQ_CREDIT_BUREAU_YEAR'] = application_data['AMT_REQ_CREDIT_BUREAU_YEAR'].fillna(0)\n"
   ]
  },
  {
   "cell_type": "code",
   "execution_count": 14,
   "metadata": {},
   "outputs": [
    {
     "data": {
      "text/plain": [
       "{'CODE_GENDER': 'F',\n",
       " 'FLAG_OWN_CAR': 'N',\n",
       " 'FLAG_OWN_REALTY': 'Y',\n",
       " 'AMT_INCOME_TOTAL': 135000.0,\n",
       " 'AMT_CREDIT': 450000.0,\n",
       " 'AMT_ANNUITY': 9000.0,\n",
       " 'NAME_INCOME_TYPE': 'Working',\n",
       " 'NAME_EDUCATION_TYPE': 'Secondary / secondary special',\n",
       " 'NAME_FAMILY_STATUS': 'Married',\n",
       " 'NAME_HOUSING_TYPE': 'House / apartment',\n",
       " 'DAYS_BIRTH': -18248.0,\n",
       " 'DAYS_EMPLOYED': 365243.0,\n",
       " 'DAYS_ID_PUBLISH': -4102.0,\n",
       " 'FLAG_MOBIL': 1.0,\n",
       " 'FLAG_EMP_PHONE': 1.0,\n",
       " 'FLAG_WORK_PHONE': 0.0,\n",
       " 'FLAG_CONT_MOBILE': 1.0,\n",
       " 'FLAG_PHONE': 0.0,\n",
       " 'FLAG_EMAIL': 0.0,\n",
       " 'OCCUPATION_TYPE': 'UNKNOWN',\n",
       " 'CNT_FAM_MEMBERS': 2.0,\n",
       " 'EXT_SOURCE_1': 0.0,\n",
       " 'EXT_SOURCE_2': 0.0,\n",
       " 'EXT_SOURCE_3': 0.0,\n",
       " 'OBS_30_CNT_SOCIAL_CIRCLE': 0.0,\n",
       " 'DEF_30_CNT_SOCIAL_CIRCLE': 0.0,\n",
       " 'OBS_60_CNT_SOCIAL_CIRCLE': 0.0,\n",
       " 'DEF_60_CNT_SOCIAL_CIRCLE': 0.0,\n",
       " 'DAYS_LAST_PHONE_CHANGE': 0.0,\n",
       " 'FLAG_DOCUMENT_2': 0.0,\n",
       " 'FLAG_DOCUMENT_3': 1.0,\n",
       " 'FLAG_DOCUMENT_4': 0.0,\n",
       " 'FLAG_DOCUMENT_5': 0.0,\n",
       " 'FLAG_DOCUMENT_6': 0.0,\n",
       " 'FLAG_DOCUMENT_7': 0.0,\n",
       " 'FLAG_DOCUMENT_8': 0.0,\n",
       " 'FLAG_DOCUMENT_9': 0.0,\n",
       " 'FLAG_DOCUMENT_10': 0.0,\n",
       " 'FLAG_DOCUMENT_11': 0.0,\n",
       " 'FLAG_DOCUMENT_12': 0.0,\n",
       " 'FLAG_DOCUMENT_13': 0.0,\n",
       " 'FLAG_DOCUMENT_14': 0.0,\n",
       " 'FLAG_DOCUMENT_15': 0.0,\n",
       " 'FLAG_DOCUMENT_16': 0.0,\n",
       " 'FLAG_DOCUMENT_17': 0.0,\n",
       " 'FLAG_DOCUMENT_18': 0.0,\n",
       " 'FLAG_DOCUMENT_19': 0.0,\n",
       " 'FLAG_DOCUMENT_20': 0.0,\n",
       " 'FLAG_DOCUMENT_21': 0.0,\n",
       " 'AMT_REQ_CREDIT_BUREAU_HOUR': 0.0,\n",
       " 'AMT_REQ_CREDIT_BUREAU_DAY': 0.0,\n",
       " 'AMT_REQ_CREDIT_BUREAU_WEEK': 0.0,\n",
       " 'AMT_REQ_CREDIT_BUREAU_MON': 0.0,\n",
       " 'AMT_REQ_CREDIT_BUREAU_QRT': 0.0,\n",
       " 'AMT_REQ_CREDIT_BUREAU_YEAR': 0.0,\n",
       " 'TARGET': 0}"
      ]
     },
     "execution_count": 14,
     "metadata": {},
     "output_type": "execute_result"
    }
   ],
   "source": [
    "sample_class_1 = application_data[application_data['TARGET'] == 1][:20000]\n",
    "sample_class_0 = application_data[application_data['TARGET'] == 0][:20000]\n",
    "treated_dataset = pd.concat([sample_class_1, sample_class_0])[dataset_columns]\n",
    "training_dataset, testing_dataset = train_test_split(treated_dataset, shuffle=True, stratify=treated_dataset['TARGET'])\n",
    "train_mode = dict(training_dataset.mode().iloc[0])\n",
    "train_mode"
   ]
  },
  {
   "cell_type": "code",
   "execution_count": 8,
   "metadata": {},
   "outputs": [],
   "source": [
    "features = list(set(dataset_columns) - set(['TARGET'])) \n",
    "train_features, Y_train = training_dataset[features], training_dataset['TARGET']\n",
    "test_features, Y_test = testing_dataset[features], testing_dataset['TARGET']"
   ]
  },
  {
   "cell_type": "code",
   "execution_count": 21,
   "metadata": {},
   "outputs": [
    {
     "ename": "NameError",
     "evalue": "name 'LabelEncoder' is not defined",
     "output_type": "error",
     "traceback": [
      "\u001b[0;31m---------------------------------------------------------------------------\u001b[0m",
      "\u001b[0;31mNameError\u001b[0m                                 Traceback (most recent call last)",
      "\u001b[0;32m<ipython-input-21-b08a6ad64757>\u001b[0m in \u001b[0;36m<module>\u001b[0;34m\u001b[0m\n\u001b[1;32m      6\u001b[0m \u001b[0mencoders\u001b[0m \u001b[0;34m=\u001b[0m \u001b[0;34m{\u001b[0m\u001b[0;34m}\u001b[0m\u001b[0;34m\u001b[0m\u001b[0;34m\u001b[0m\u001b[0m\n\u001b[1;32m      7\u001b[0m \u001b[0;32mfor\u001b[0m \u001b[0mcolumn\u001b[0m \u001b[0;32min\u001b[0m \u001b[0mcategorical_features\u001b[0m\u001b[0;34m:\u001b[0m\u001b[0;34m\u001b[0m\u001b[0;34m\u001b[0m\u001b[0m\n\u001b[0;32m----> 8\u001b[0;31m     \u001b[0mcategorical_convert\u001b[0m \u001b[0;34m=\u001b[0m \u001b[0mLabelEncoder\u001b[0m\u001b[0;34m(\u001b[0m\u001b[0;34m)\u001b[0m\u001b[0;34m\u001b[0m\u001b[0;34m\u001b[0m\u001b[0m\n\u001b[0m\u001b[1;32m      9\u001b[0m     \u001b[0mX_train\u001b[0m\u001b[0;34m[\u001b[0m\u001b[0mcolumn\u001b[0m\u001b[0;34m]\u001b[0m \u001b[0;34m=\u001b[0m \u001b[0mcategorical_convert\u001b[0m\u001b[0;34m.\u001b[0m\u001b[0mfit_transform\u001b[0m\u001b[0;34m(\u001b[0m\u001b[0mtrain_features\u001b[0m\u001b[0;34m[\u001b[0m\u001b[0mcolumn\u001b[0m\u001b[0;34m]\u001b[0m\u001b[0;34m)\u001b[0m\u001b[0;34m\u001b[0m\u001b[0;34m\u001b[0m\u001b[0m\n\u001b[1;32m     10\u001b[0m     \u001b[0mencoders\u001b[0m\u001b[0;34m[\u001b[0m\u001b[0mcolumn\u001b[0m\u001b[0;34m]\u001b[0m \u001b[0;34m=\u001b[0m \u001b[0mcategorical_convert\u001b[0m\u001b[0;34m\u001b[0m\u001b[0;34m\u001b[0m\u001b[0m\n",
      "\u001b[0;31mNameError\u001b[0m: name 'LabelEncoder' is not defined"
     ]
    }
   ],
   "source": [
    "column_trans = make_column_transformer(\n",
    "    (OneHotEncoder(), categorical_features),\n",
    "    (StandardScaler(), numerical_features)\n",
    "    )\n",
    "transformer = column_trans.fit(treated_dataset[features])\n",
    "encoders = {}\n",
    "for column in categorical_features:\n",
    "    categorical_convert = LabelEncoder()\n",
    "    X_train[column] = categorical_convert.fit_transform(train_features[column])\n",
    "    encoders[column] = categorical_convert"
   ]
  },
  {
   "cell_type": "code",
   "execution_count": 10,
   "metadata": {},
   "outputs": [],
   "source": [
    "X_train = transformer.transform(train_features)\n",
    "X_test = transformer.transform(test_features)"
   ]
  },
  {
   "cell_type": "markdown",
   "metadata": {},
   "source": [
    "# Task 1: Decision Tree classification"
   ]
  },
  {
   "cell_type": "code",
   "execution_count": 18,
   "metadata": {},
   "outputs": [
    {
     "name": "stdout",
     "output_type": "stream",
     "text": [
      "Accuracy score for depth: 5 = 0.6468\n",
      "Accuracy score for depth: 10 = 0.6426\n",
      "Accuracy score for depth: 20 = 0.5986\n",
      "Accuracy score for depth: 50 = 0.59\n",
      "Accuracy score for depth: None = 0.5897\n"
     ]
    }
   ],
   "source": [
    "for max_depth in [5,10,20,50,None]:\n",
    "    clf = tree.DecisionTreeClassifier(criterion='entropy', max_depth=max_depth)\n",
    "    dt = clf.fit(X_train, Y_train)\n",
    "    print(\"Accuracy score for depth: {} = {}\".format(max_depth, accuracy_score(clf.predict(X_test), Y_test)))\n"
   ]
  },
  {
   "cell_type": "markdown",
   "metadata": {},
   "source": [
    "# Task 2: Random Forest classification"
   ]
  },
  {
   "cell_type": "code",
   "execution_count": 17,
   "metadata": {},
   "outputs": [
    {
     "name": "stdout",
     "output_type": "stream",
     "text": [
      "Accuracy score for depth: 5 = 0.6445\n",
      "Accuracy score for depth: 10 = 0.6447\n",
      "Accuracy score for depth: 20 = 0.6513\n",
      "Accuracy score for depth: 50 = 0.6615\n",
      "Accuracy score for depth: None = 0.6563\n"
     ]
    }
   ],
   "source": [
    "for max_depth in [5,10,20,50,None]:\n",
    "    clf = RandomForestClassifier(criterion='entropy', max_depth=max_depth, random_state=0)\n",
    "    ra= clf.fit(X_train, Y_train)\n",
    "    print(\"Accuracy score for depth: {} = {}\".format(max_depth, accuracy_score(clf.predict(X_test), Y_test)))\n",
    "    \n",
    "                                 "
   ]
  },
  {
   "cell_type": "code",
   "execution_count": 19,
   "metadata": {},
   "outputs": [
    {
     "ename": "NameError",
     "evalue": "name 'encoders' is not defined",
     "output_type": "error",
     "traceback": [
      "\u001b[0;31m---------------------------------------------------------------------------\u001b[0m",
      "\u001b[0;31mNameError\u001b[0m                                 Traceback (most recent call last)",
      "\u001b[0;32m<ipython-input-19-9c00100d8ab1>\u001b[0m in \u001b[0;36m<module>\u001b[0;34m\u001b[0m\n\u001b[1;32m      1\u001b[0m \u001b[0;31m# save preprocessing objects and RF algorithm\u001b[0m\u001b[0;34m\u001b[0m\u001b[0;34m\u001b[0m\u001b[0;34m\u001b[0m\u001b[0m\n\u001b[1;32m      2\u001b[0m \u001b[0mjoblib\u001b[0m\u001b[0;34m.\u001b[0m\u001b[0mdump\u001b[0m\u001b[0;34m(\u001b[0m\u001b[0mtrain_mode\u001b[0m\u001b[0;34m,\u001b[0m \u001b[0;34m\"./train_mode.joblib\"\u001b[0m\u001b[0;34m,\u001b[0m \u001b[0mcompress\u001b[0m\u001b[0;34m=\u001b[0m\u001b[0;32mTrue\u001b[0m\u001b[0;34m)\u001b[0m\u001b[0;34m\u001b[0m\u001b[0;34m\u001b[0m\u001b[0m\n\u001b[0;32m----> 3\u001b[0;31m \u001b[0mjoblib\u001b[0m\u001b[0;34m.\u001b[0m\u001b[0mdump\u001b[0m\u001b[0;34m(\u001b[0m\u001b[0mencoders\u001b[0m\u001b[0;34m,\u001b[0m \u001b[0;34m\"./encoders.joblib\"\u001b[0m\u001b[0;34m,\u001b[0m \u001b[0mcompress\u001b[0m\u001b[0;34m=\u001b[0m\u001b[0;32mTrue\u001b[0m\u001b[0;34m)\u001b[0m\u001b[0;34m\u001b[0m\u001b[0;34m\u001b[0m\u001b[0m\n\u001b[0m\u001b[1;32m      4\u001b[0m \u001b[0mjoblib\u001b[0m\u001b[0;34m.\u001b[0m\u001b[0mdump\u001b[0m\u001b[0;34m(\u001b[0m\u001b[0mrs\u001b[0m\u001b[0;34m,\u001b[0m \u001b[0;34m\"./ra_random_forest.joblib\"\u001b[0m\u001b[0;34m,\u001b[0m \u001b[0mcompress\u001b[0m\u001b[0;34m=\u001b[0m\u001b[0;32mTrue\u001b[0m\u001b[0;34m)\u001b[0m\u001b[0;34m\u001b[0m\u001b[0;34m\u001b[0m\u001b[0m\n\u001b[1;32m      5\u001b[0m \u001b[0mjoblib\u001b[0m\u001b[0;34m.\u001b[0m\u001b[0mdump\u001b[0m\u001b[0;34m(\u001b[0m\u001b[0mdt\u001b[0m\u001b[0;34m,\u001b[0m \u001b[0;34m\"./ra_decision_trees.joblib\"\u001b[0m\u001b[0;34m,\u001b[0m \u001b[0mcompress\u001b[0m\u001b[0;34m=\u001b[0m\u001b[0;32mTrue\u001b[0m\u001b[0;34m)\u001b[0m\u001b[0;34m\u001b[0m\u001b[0;34m\u001b[0m\u001b[0m\n",
      "\u001b[0;31mNameError\u001b[0m: name 'encoders' is not defined"
     ]
    }
   ],
   "source": [
    "# save preprocessing objects and RF algorithm\n",
    "joblib.dump(train_mode, \"./train_mode.joblib\", compress=True)\n",
    "joblib.dump(encoders, \"./encoders.joblib\", compress=True)\n",
    "joblib.dump(rs, \"./ra_random_forest.joblib\", compress=True)\n",
    "joblib.dump(dt, \"./ra_decision_trees.joblib\", compress=True)"
   ]
  },
  {
   "cell_type": "markdown",
   "metadata": {},
   "source": [
    "# Task 3: XGBoost classification"
   ]
  },
  {
   "cell_type": "code",
   "execution_count": null,
   "metadata": {},
   "outputs": [],
   "source": [
    "xgb_model = xgb.XGBClassifier(n_jobs=-1)\n",
    "clf = GridSearchCV(xgb_model,\n",
    "                   {'max_depth': [2, 4, 6, 10, 20, 40, 60, 75, 100],\n",
    "                    'n_estimators': [50, 100, 200]}, verbose=1, n_jobs=-1)\n",
    "clf.fit(X_train, Y_train)"
   ]
  },
  {
   "cell_type": "code",
   "execution_count": null,
   "metadata": {},
   "outputs": [],
   "source": []
  },
  {
   "cell_type": "code",
   "execution_count": null,
   "metadata": {},
   "outputs": [],
   "source": [
    "print(\"Best params for XGBoost classifier: {}\".format(clf.best_params_))\n",
    "print(\"XGBoost classifier accuracy: {}\".format(accuracy_score(clf.predict(X_test), Y_test)))\n",
    "disp = plot_confusion_matrix(clf, X_test, Y_test,\n",
    "                                         cmap=plt.cm.Blues,\n",
    "                                         normalize='true')\n",
    "disp.ax_.set_title(\"Confusion matrix for XGBoost classifier\")"
   ]
  },
  {
   "cell_type": "code",
   "execution_count": null,
   "metadata": {},
   "outputs": [],
   "source": []
  }
 ],
 "metadata": {
  "kernelspec": {
   "display_name": "Python 3",
   "language": "python",
   "name": "python3"
  },
  "language_info": {
   "codemirror_mode": {
    "name": "ipython",
    "version": 3
   },
   "file_extension": ".py",
   "mimetype": "text/x-python",
   "name": "python",
   "nbconvert_exporter": "python",
   "pygments_lexer": "ipython3",
   "version": "3.8.3"
  }
 },
 "nbformat": 4,
 "nbformat_minor": 4
}
